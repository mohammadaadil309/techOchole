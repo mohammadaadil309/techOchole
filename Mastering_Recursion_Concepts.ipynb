{
  "nbformat": 4,
  "nbformat_minor": 0,
  "metadata": {
    "colab": {
      "provenance": [],
      "include_colab_link": true
    },
    "kernelspec": {
      "name": "python3",
      "display_name": "Python 3"
    },
    "language_info": {
      "name": "python"
    }
  },
  "cells": [
    {
      "cell_type": "markdown",
      "metadata": {
        "id": "view-in-github",
        "colab_type": "text"
      },
      "source": [
        "<a href=\"https://colab.research.google.com/github/mohammadaadil309/techOchole/blob/main/Mastering_Recursion_Concepts.ipynb\" target=\"_parent\"><img src=\"https://colab.research.google.com/assets/colab-badge.svg\" alt=\"Open In Colab\"/></a>"
      ]
    },
    {
      "cell_type": "markdown",
      "source": [
        "## 🎉 Hi there! Welcome to today's assignment on Mastering Recursion Concepts in Python!\n",
        "\n",
        "Are you ready to put your skills to the test? Let's dive right in! 💪📚\n",
        "\n",
        "In this assignment, you will be working with medium to hard level recursive functions in Python. Don't worry if you're feeling a bit unsure - you got this! 🤞\n",
        "\n",
        "Good luck! 🍀🚀"
      ],
      "metadata": {
        "id": "6DURZxmNwTHg"
      }
    },
    {
      "cell_type": "markdown",
      "source": [
        "## **Activity 1:**"
      ],
      "metadata": {
        "id": "Pc10glWFYsyR"
      }
    },
    {
      "cell_type": "markdown",
      "source": [
        "### **Sum of Elements in Array** ➕ ➕\n",
        "\n",
        "ABC Company is developing a new software application that requires the calculation of the sum of all elements in an array. The company's development team has decided to implement this calculation using recursion in Python.\n",
        "\n",
        "You have been hired as a software engineer by ABC Company to help with the development of this feature. Your task is to write a recursive function that finds the sum of all elements in an array.\n",
        "\n",
        "\n",
        "Additionally, find the time and space complexity of the code you have developed."
      ],
      "metadata": {
        "id": "8Cb8B-MfvP94"
      }
    },
    {
      "cell_type": "code",
      "source": [
        "# Write your code here\n",
        "def sum_of_elements(arr):\n",
        "  if len(arr)==0:\n",
        "    return 0\n",
        "  else:\n",
        "    return arr[0]+sum_of_elements(arr[1:])"
      ],
      "metadata": {
        "id": "MmVMd0DewCF-"
      },
      "execution_count": null,
      "outputs": []
    },
    {
      "cell_type": "code",
      "source": [
        "# Test Case\n",
        "array = [5,4,3,8,9]\n",
        "print(sum_of_elements(array))"
      ],
      "metadata": {
        "id": "aFlqA33MZsJQ",
        "colab": {
          "base_uri": "https://localhost:8080/"
        },
        "outputId": "927717dc-f2f1-4bd7-dcf9-65053cf45758"
      },
      "execution_count": null,
      "outputs": [
        {
          "output_type": "stream",
          "name": "stdout",
          "text": [
            "29\n"
          ]
        }
      ]
    },
    {
      "cell_type": "markdown",
      "source": [
        "👉 **Instructions:**\n",
        "\n",
        "1. Define a function that takes an array as input.\n",
        "2. Check if the array is empty. If it is, return 0 (since the sum of an empty array is 0).\n",
        "3. If the array is not empty, sum the first element of the array with the sum of the remaining elements.\n",
        "4. To sum the remaining elements, make a recursive call to the same function with the remaining elements of the array (i.e., all elements except the first one).\n",
        "5. Keep making recursive calls until you reach the base case (i.e., the array is empty).\n",
        "6. Once you reach the base case, start unwinding the recursion by summing the elements of the array.\n",
        "7. Return the final sum."
      ],
      "metadata": {
        "id": "kUxsJayMv0gr"
      }
    },
    {
      "cell_type": "markdown",
      "source": [
        "## **Activity 2:**"
      ],
      "metadata": {
        "id": "YobixIhIZ2aY"
      }
    },
    {
      "cell_type": "markdown",
      "source": [
        "### **Permutation of Songs** 🎶 🎶\n",
        "\n",
        "You have been hired as a software engineer to develop a permutation generating program for a music streaming platform. The program should take a list of songs as input and generate all possible permutations of the songs. The program should be implemented using recursion.\n",
        "\n",
        "Using Python, write a recursive function that generates all possible permutations of a list of songs.\n",
        "\n",
        "\n",
        "Additionally, find the time and space complexity of the code you have developed."
      ],
      "metadata": {
        "id": "eQM0LmH_tHZQ"
      }
    },
    {
      "cell_type": "markdown",
      "source": [
        "![music-document (1).png](data:image/png;base64,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)"
      ],
      "metadata": {
        "id": "EOYlgnwMaIJI"
      }
    },
    {
      "cell_type": "code",
      "execution_count": null,
      "metadata": {
        "id": "FeoyuUAcrADH"
      },
      "outputs": [],
      "source": [
        "# Write your code here\n",
        "def song_permutations(songs):\n",
        "    if len(songs) == 0:\n",
        "        return [[]]\n",
        "    else:\n",
        "        permutations = []\n",
        "        for i in range(len(songs)):\n",
        "            song = songs[i]\n",
        "            remaining_songs = songs[:i] + songs[i+1:]\n",
        "            sub_permutations = song_permutations(remaining_songs)\n",
        "            for permutation in sub_permutations:\n",
        "                permutations.append([song] + permutation)\n",
        "        return permutations"
      ]
    },
    {
      "cell_type": "code",
      "source": [
        "# Test case\n",
        "songs = [\"song1\", \"song2\", \"song3\"]\n",
        "permutations = song_permutations(songs)\n",
        "\n",
        "\n",
        "for permutation in permutations:\n",
        "    print(permutation)"
      ],
      "metadata": {
        "id": "GXJCfFAOacZH",
        "colab": {
          "base_uri": "https://localhost:8080/"
        },
        "outputId": "66ad05b9-1c84-4d12-ea79-1d954acc8b13"
      },
      "execution_count": null,
      "outputs": [
        {
          "output_type": "stream",
          "name": "stdout",
          "text": [
            "['song1', 'song2', 'song3']\n",
            "['song1', 'song3', 'song2']\n",
            "['song2', 'song1', 'song3']\n",
            "['song2', 'song3', 'song1']\n",
            "['song3', 'song1', 'song2']\n",
            "['song3', 'song2', 'song1']\n"
          ]
        }
      ]
    },
    {
      "cell_type": "markdown",
      "source": [
        "👉 **Instructions:**\n",
        "\n",
        "1. You are given a list of songs, and you need to generate all possible permutations of the songs.\n",
        "2. You can break the problem down into smaller subproblems, where each subproblem generates all possible permutations of a smaller sublist of songs using recursion.\n",
        "3. Start by defining a recursive function that takes a list of songs as input and returns a list of all possible permutations of the songs.\n",
        "4. Iterate over each song in the input list and recursively generate all possible permutations of the remaining songs. For each permutation of the remaining songs, add the current song to the beginning of the permutation to generate a new permutation. Repeat this process for all songs in the input list.\n",
        "5. Finally, return a list of all permutations generated by the function."
      ],
      "metadata": {
        "id": "jxb98h7ttTF6"
      }
    },
    {
      "cell_type": "markdown",
      "source": [
        "## **Activity 3:**"
      ],
      "metadata": {
        "id": "OuLUbFORaf4n"
      }
    },
    {
      "cell_type": "markdown",
      "source": [
        "### **Possible Paths** 🛣️\n",
        "\n",
        "You have been hired by a robotics company to develop a program that generates all possible paths a robot can take to navigate a grid. The program should take a grid as input and output a list of all possible paths the robot can take to reach the bottom-right corner of the grid. The robot can only move down or right.\n",
        "\n",
        "Using Python, write a recursive function that generates all possible paths a robot can take to navigate a grid.\n",
        "\n",
        "\n",
        "Additionally, find the time and space complexity of the code you have developed."
      ],
      "metadata": {
        "id": "2h-3lLK3wl0m"
      }
    },
    {
      "cell_type": "markdown",
      "source": [
        "![road.png](data:image/png;base64,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)"
      ],
      "metadata": {
        "id": "cg8pBryda3kX"
      }
    },
    {
      "cell_type": "code",
      "source": [
        "# Write your code here\n",
        "def robot_paths(curr, grid_dim, visit_pos):\n",
        "    row, col = curr\n",
        "    num_rows, num_cols = grid_dim\n",
        "    all_paths = []\n",
        "\n",
        "    if curr == (num_rows - 1, num_cols - 1):\n",
        "        return [visit_pos + [curr]]\n",
        "\n",
        "    if row + 1 < num_rows:\n",
        "        new_pos = (row + 1, col)\n",
        "        if new_pos not in visit_pos:\n",
        "            all_paths += robot_paths(new_pos, grid_dim, visit_pos + [curr])\n",
        "\n",
        "    if col + 1 < num_cols:\n",
        "        new_pos = (row, col + 1)\n",
        "        if new_pos not in visit_pos:\n",
        "            all_paths += robot_paths(new_pos, grid_dim, visit_pos + [curr])\n",
        "\n",
        "    return all_paths"
      ],
      "metadata": {
        "id": "8_W8P4OMuYJS"
      },
      "execution_count": null,
      "outputs": []
    },
    {
      "cell_type": "code",
      "source": [
        "# Test case\n",
        "grid = [[1, 2], [3, 4]]\n",
        "start_pos = grid[0]\n",
        "dimensions = grid[1]\n",
        "visited = []\n",
        "paths = robot_paths(start_pos, dimensions, visited)\n",
        "\n",
        "\n",
        "for path in paths:\n",
        "    print(path)"
      ],
      "metadata": {
        "id": "4tKJ5Pbwa95n",
        "colab": {
          "base_uri": "https://localhost:8080/"
        },
        "outputId": "15c8459d-1d97-4613-e96e-77d488954870"
      },
      "execution_count": null,
      "outputs": [
        {
          "output_type": "stream",
          "name": "stdout",
          "text": [
            "[[1, 2], (2, 2), (2, 3)]\n",
            "[[1, 2], (1, 3), (2, 3)]\n"
          ]
        }
      ]
    },
    {
      "cell_type": "markdown",
      "source": [
        "👉 **Instructions:**\n",
        "\n",
        "1. Define a function that takes three arguments: the current position of the robot, the dimensions of the grid, and a list of previous positions that the robot has visited (initialized as an empty list).\n",
        "2. Check if the current position is the bottom-right corner of the grid. If it is, add the current list of positions to a list of all possible paths and return the list.\n",
        "3. If the current position is not the bottom-right corner, recursively call the function for all valid positions that the robot can move to (i.e., positions that are within the dimensions of the grid and have not been visited previously).\n",
        "4. Add the current position to the list of visited positions.\n",
        "5. Once all recursive calls have completed, remove the current position from the list of visited positions and return the list of all possible paths."
      ],
      "metadata": {
        "id": "7pqwlfs2wzf_"
      }
    },
    {
      "cell_type": "markdown",
      "source": [
        "## **Activity 4:**"
      ],
      "metadata": {
        "id": "AYSqomwQbCPA"
      }
    },
    {
      "cell_type": "markdown",
      "source": [
        "### **Increasing Sequence of Length k**\n",
        "\n",
        "You are given two positive integers n and k. Your task is to write a Python function that generates all increasing sequences of length k such that the elements in every sequence are from the first n natural numbers.\n",
        "\n",
        "Suppose n = 4 and k = 3. Then the function should return the following output:\n",
        "\n",
        "\n",
        "```\n",
        "[[1, 2, 3], [1, 2, 4], [1, 3, 4], [2, 3, 4]]\n",
        "\n",
        "```\n",
        "\n",
        "\n",
        "Additionally, find the time and space complexity of the code you have developed.\n"
      ],
      "metadata": {
        "id": "iunEO_Ap0Bvs"
      }
    },
    {
      "cell_type": "markdown",
      "source": [
        "![process.png](data:image/png;base64,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)"
      ],
      "metadata": {
        "id": "dgEQFgH2bfs4"
      }
    },
    {
      "cell_type": "code",
      "source": [
        "# Write your code here\n",
        "def increasing_sequences(n, k, start=1, seq=[]):\n",
        "    if len(seq) == k:\n",
        "        return [seq]\n",
        "\n",
        "    result = []\n",
        "    for i in range(start, n - k + len(seq) + 2):\n",
        "        result.extend(increasing_sequences(n, k, i + 1, seq + [i]))\n",
        "\n",
        "    return result\n",
        "\n",
        "\n",
        "def main():\n",
        "    n = int(input(\"Enter the maximum number in the sequence: \"))\n",
        "    k = int(input(\"Enter the length of the sequence: \"))\n",
        "\n",
        "    sequences = increasing_sequences(n, k)\n",
        "    for seq in sequences:\n",
        "        print(seq)\n",
        "\n",
        "\n",
        "main()"
      ],
      "metadata": {
        "id": "y7rn17xIdBtP",
        "colab": {
          "base_uri": "https://localhost:8080/"
        },
        "outputId": "cfefd6be-5c56-4f14-9e42-777075d5747b"
      },
      "execution_count": null,
      "outputs": [
        {
          "output_type": "stream",
          "name": "stdout",
          "text": [
            "Enter the maximum number in the sequence: 4\n",
            "Enter the length of the sequence: 3\n",
            "[1, 2, 3]\n",
            "[1, 2, 4]\n",
            "[1, 3, 4]\n",
            "[2, 3, 4]\n"
          ]
        }
      ]
    },
    {
      "cell_type": "markdown",
      "source": [
        "👉 **Instructions:**\n",
        "\n",
        "1. Define a recursive function called increasing_sequences(n, k, start=1, seq=[]) that takes four parameters:\n",
        "\n",
        "  * n: the maximum number in the sequence (int)\n",
        "  * k: the length of the sequence (int)\n",
        "  * start: the starting number in the sequence (int)\n",
        "  * seq: the current sequence (list)\n",
        "  * In the function, check if the length of seq is equal to k. If so, append seq to a result list and return it.\n",
        "\n",
        "2. Otherwise, iterate over the range from start to n-k+len(seq)+1 and for each value i, call the increasing_sequences function recursively with n, k, i+1, and seq+[i].\n",
        "\n",
        "3. After the recursive calls have returned, return the result list.\n",
        "\n",
        "4. Finally, write a main function to take input values n and k from the user, call the increasing_sequences function with these values, and print the output."
      ],
      "metadata": {
        "id": "QFJUVXYt0WFZ"
      }
    },
    {
      "cell_type": "markdown",
      "source": [
        "## **Activity 5:**"
      ],
      "metadata": {
        "id": "C8_ExDiVdHC-"
      }
    },
    {
      "cell_type": "markdown",
      "source": [
        "### **Salary Combinations** 💰 💰\n",
        "\n",
        "A company has a list of employees and their respective salaries. The HR department wants to generate a report of all possible salary combinations that could be given to a group of employees. The report should include all possible combinations of salaries for groups of employees with the same total salary. Using recursion in Python, write a function to generate this report.\n",
        "\n",
        "For example, suppose the company has 5 employees with the following salaries: `[2000, 3000, 3500, 4000, 4500]`. One possible report could be:\n",
        "\n",
        "\n",
        "```\n",
        "Total Salary: 4500\n",
        "Employee Salaries: [4500]\n",
        "Employee Salaries: [3000, 1500]\n",
        "Employee Salaries: [3500, 1000]\n",
        "Employee Salaries: [2000, 2000, 1500]\n",
        "Employee Salaries: [2000, 1500, 1500, 1500]\n",
        "```\n",
        "\n",
        "Write a function that takes in a list of employee salaries and generates a report of all possible salary combinations with the same total salary using recursion in Python.\n",
        "\n",
        "\n",
        "Additionally, find the time and space complexity of the code you have developed."
      ],
      "metadata": {
        "id": "KKHsf5LKTehK"
      }
    },
    {
      "cell_type": "markdown",
      "source": [
        "![salary.png](data:image/png;base64,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)"
      ],
      "metadata": {
        "id": "ZMPS7LbMdgyX"
      }
    },
    {
      "cell_type": "code",
      "source": [
        "# Write your code here\n",
        "def generate_salary_combinations(salaries, target_salary):\n",
        "    report = []\n",
        "\n",
        "    def backtrack(start, current_combination, current_sum):\n",
        "        if current_sum == target_salary:\n",
        "            report.append(current_combination)\n",
        "        elif current_sum > target_salary:\n",
        "            return\n",
        "        else:\n",
        "            for i in range(start, len(salaries)):\n",
        "                backtrack(i, current_combination + [salaries[i]], current_sum + salaries[i])\n",
        "\n",
        "    backtrack(0, [], 0)\n",
        "    return report"
      ],
      "metadata": {
        "id": "qDBl4pAJ1lLc"
      },
      "execution_count": null,
      "outputs": []
    },
    {
      "cell_type": "code",
      "source": [
        "# Test Case\n",
        "employees = [20000, 30000, 40000, 50000]\n",
        "target_salary = 70000\n",
        "\n",
        "report = generate_salary_combinations(employees , target_salary)\n",
        "\n",
        "for combination in report:\n",
        "    print(\"Total Salary:\", target_salary)\n",
        "    print(\"Employee Salaries:\", combination)"
      ],
      "metadata": {
        "id": "kk9bgw6kdmz3",
        "colab": {
          "base_uri": "https://localhost:8080/"
        },
        "outputId": "24cabbd5-02a7-4960-e5d2-712247a626c4"
      },
      "execution_count": null,
      "outputs": [
        {
          "output_type": "stream",
          "name": "stdout",
          "text": [
            "Total Salary: 70000\n",
            "Employee Salaries: [20000, 20000, 30000]\n",
            "Total Salary: 70000\n",
            "Employee Salaries: [20000, 50000]\n",
            "Total Salary: 70000\n",
            "Employee Salaries: [30000, 40000]\n"
          ]
        }
      ]
    },
    {
      "cell_type": "markdown",
      "source": [
        "👉 **Instructions:**\n",
        "\n",
        "1. Define a function that takes three arguments - n, k, and the current sequence. The current sequence is initially an empty list.\n",
        "\n",
        "2. In the function, check if the length of the current sequence is equal to k. If it is, print the current sequence and return.\n",
        "\n",
        "3. If the length of the current sequence is less than k, loop through the range of 1 to n (inclusive). For each number, add it to the current sequence and make a recursive call to the function with the updated sequence.\n",
        "\n",
        "4. After the recursive call, remove the last element from the current sequence. This is because we want to explore all possible sequences, and removing the last element allows us to explore a different path.\n",
        "\n",
        "5. Call the function with n, k, and an empty list as arguments to start generating the sequences."
      ],
      "metadata": {
        "id": "3TiWvvQzT_t1"
      }
    }
  ]
}